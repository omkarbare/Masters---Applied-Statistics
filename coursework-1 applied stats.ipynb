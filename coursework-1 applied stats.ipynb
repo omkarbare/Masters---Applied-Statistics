{
 "cells": [
  {
   "cell_type": "code",
   "execution_count": 1,
   "id": "67ab10e0-4d3d-4e47-ac8d-3ebaf430ba01",
   "metadata": {},
   "outputs": [],
   "source": [
    "import pandas as pd\n",
    "import numpy as np\n",
    "data = pd.read_csv('http://data.un.org/_Docs/SYB/CSV/SYB64_246_202110_Population%20Growth,%20Fertility%20and%20Mortality%20Indicators.csv', encoding='ISO-8859-1', header=1)\n",
    "#Import the data"
   ]
  },
  {
   "cell_type": "code",
   "execution_count": 2,
   "id": "cbe0ad91-4f9d-4cd2-b4ff-8324f1beccbd",
   "metadata": {},
   "outputs": [
    {
     "data": {
      "text/html": [
       "<div>\n",
       "<style scoped>\n",
       "    .dataframe tbody tr th:only-of-type {\n",
       "        vertical-align: middle;\n",
       "    }\n",
       "\n",
       "    .dataframe tbody tr th {\n",
       "        vertical-align: top;\n",
       "    }\n",
       "\n",
       "    .dataframe thead th {\n",
       "        text-align: right;\n",
       "    }\n",
       "</style>\n",
       "<table border=\"1\" class=\"dataframe\">\n",
       "  <thead>\n",
       "    <tr style=\"text-align: right;\">\n",
       "      <th></th>\n",
       "      <th>Region/Country/Area</th>\n",
       "      <th>Unnamed: 1</th>\n",
       "      <th>Year</th>\n",
       "      <th>Series</th>\n",
       "      <th>Value</th>\n",
       "      <th>Footnotes</th>\n",
       "      <th>Source</th>\n",
       "    </tr>\n",
       "  </thead>\n",
       "  <tbody>\n",
       "    <tr>\n",
       "      <th>0</th>\n",
       "      <td>1</td>\n",
       "      <td>Total, all countries or areas</td>\n",
       "      <td>2010</td>\n",
       "      <td>Population annual rate of increase (percent)</td>\n",
       "      <td>1.2</td>\n",
       "      <td>Data refers to a 5-year period preceding the r...</td>\n",
       "      <td>United Nations Population Division, New York, ...</td>\n",
       "    </tr>\n",
       "    <tr>\n",
       "      <th>1</th>\n",
       "      <td>1</td>\n",
       "      <td>Total, all countries or areas</td>\n",
       "      <td>2010</td>\n",
       "      <td>Total fertility rate (children per women)</td>\n",
       "      <td>2.6</td>\n",
       "      <td>Data refers to a 5-year period preceding the r...</td>\n",
       "      <td>United Nations Population Division, New York, ...</td>\n",
       "    </tr>\n",
       "    <tr>\n",
       "      <th>2</th>\n",
       "      <td>1</td>\n",
       "      <td>Total, all countries or areas</td>\n",
       "      <td>2010</td>\n",
       "      <td>Infant mortality for both sexes (per 1,000 liv...</td>\n",
       "      <td>41.0</td>\n",
       "      <td>Data refers to a 5-year period preceding the r...</td>\n",
       "      <td>United Nations Statistics Division, New York, ...</td>\n",
       "    </tr>\n",
       "    <tr>\n",
       "      <th>3</th>\n",
       "      <td>1</td>\n",
       "      <td>Total, all countries or areas</td>\n",
       "      <td>2010</td>\n",
       "      <td>Maternal mortality ratio (deaths per 100,000 p...</td>\n",
       "      <td>248</td>\n",
       "      <td>NaN</td>\n",
       "      <td>World Health Organization (WHO), the United Na...</td>\n",
       "    </tr>\n",
       "    <tr>\n",
       "      <th>4</th>\n",
       "      <td>1</td>\n",
       "      <td>Total, all countries or areas</td>\n",
       "      <td>2010</td>\n",
       "      <td>Life expectancy at birth for both sexes (years)</td>\n",
       "      <td>68.9</td>\n",
       "      <td>Data refers to a 5-year period preceding the r...</td>\n",
       "      <td>United Nations Population Division, New York, ...</td>\n",
       "    </tr>\n",
       "  </tbody>\n",
       "</table>\n",
       "</div>"
      ],
      "text/plain": [
       "   Region/Country/Area                     Unnamed: 1  Year  \\\n",
       "0                    1  Total, all countries or areas  2010   \n",
       "1                    1  Total, all countries or areas  2010   \n",
       "2                    1  Total, all countries or areas  2010   \n",
       "3                    1  Total, all countries or areas  2010   \n",
       "4                    1  Total, all countries or areas  2010   \n",
       "\n",
       "                                              Series Value  \\\n",
       "0       Population annual rate of increase (percent)   1.2   \n",
       "1          Total fertility rate (children per women)   2.6   \n",
       "2  Infant mortality for both sexes (per 1,000 liv...  41.0   \n",
       "3  Maternal mortality ratio (deaths per 100,000 p...   248   \n",
       "4    Life expectancy at birth for both sexes (years)  68.9   \n",
       "\n",
       "                                           Footnotes  \\\n",
       "0  Data refers to a 5-year period preceding the r...   \n",
       "1  Data refers to a 5-year period preceding the r...   \n",
       "2  Data refers to a 5-year period preceding the r...   \n",
       "3                                                NaN   \n",
       "4  Data refers to a 5-year period preceding the r...   \n",
       "\n",
       "                                              Source  \n",
       "0  United Nations Population Division, New York, ...  \n",
       "1  United Nations Population Division, New York, ...  \n",
       "2  United Nations Statistics Division, New York, ...  \n",
       "3  World Health Organization (WHO), the United Na...  \n",
       "4  United Nations Population Division, New York, ...  "
      ]
     },
     "execution_count": 2,
     "metadata": {},
     "output_type": "execute_result"
    }
   ],
   "source": [
    "data.head()"
   ]
  },
  {
   "cell_type": "code",
   "execution_count": 3,
   "id": "cfe5f4be-77f6-4866-b3af-002215944c2b",
   "metadata": {},
   "outputs": [
    {
     "name": "stdout",
     "output_type": "stream",
     "text": [
      "<class 'pandas.core.frame.DataFrame'>\n",
      "RangeIndex: 4899 entries, 0 to 4898\n",
      "Data columns (total 7 columns):\n",
      " #   Column               Non-Null Count  Dtype \n",
      "---  ------               --------------  ----- \n",
      " 0   Region/Country/Area  4899 non-null   int64 \n",
      " 1   Unnamed: 1           4899 non-null   object\n",
      " 2   Year                 4899 non-null   int64 \n",
      " 3   Series               4899 non-null   object\n",
      " 4   Value                4899 non-null   object\n",
      " 5   Footnotes            4263 non-null   object\n",
      " 6   Source               4899 non-null   object\n",
      "dtypes: int64(2), object(5)\n",
      "memory usage: 268.0+ KB\n"
     ]
    }
   ],
   "source": [
    "data.info()"
   ]
  },
  {
   "cell_type": "code",
   "execution_count": 4,
   "id": "496ec9a5-6f25-4217-a463-ff4f9e961919",
   "metadata": {},
   "outputs": [],
   "source": [
    "countries_data = data.iloc[627:] "
   ]
  },
  {
   "cell_type": "code",
   "execution_count": 5,
   "id": "096006a7-9d9f-485d-9266-5163b7b0d9df",
   "metadata": {},
   "outputs": [
    {
     "data": {
      "text/html": [
       "<div>\n",
       "<style scoped>\n",
       "    .dataframe tbody tr th:only-of-type {\n",
       "        vertical-align: middle;\n",
       "    }\n",
       "\n",
       "    .dataframe tbody tr th {\n",
       "        vertical-align: top;\n",
       "    }\n",
       "\n",
       "    .dataframe thead th {\n",
       "        text-align: right;\n",
       "    }\n",
       "</style>\n",
       "<table border=\"1\" class=\"dataframe\">\n",
       "  <thead>\n",
       "    <tr style=\"text-align: right;\">\n",
       "      <th></th>\n",
       "      <th>Region/Country/Area</th>\n",
       "      <th>Unnamed: 1</th>\n",
       "      <th>Year</th>\n",
       "      <th>Series</th>\n",
       "      <th>Value</th>\n",
       "      <th>Footnotes</th>\n",
       "      <th>Source</th>\n",
       "    </tr>\n",
       "  </thead>\n",
       "  <tbody>\n",
       "    <tr>\n",
       "      <th>627</th>\n",
       "      <td>4</td>\n",
       "      <td>Afghanistan</td>\n",
       "      <td>2010</td>\n",
       "      <td>Maternal mortality ratio (deaths per 100,000 p...</td>\n",
       "      <td>954</td>\n",
       "      <td>NaN</td>\n",
       "      <td>World Health Organization (WHO), the United Na...</td>\n",
       "    </tr>\n",
       "    <tr>\n",
       "      <th>628</th>\n",
       "      <td>4</td>\n",
       "      <td>Afghanistan</td>\n",
       "      <td>2010</td>\n",
       "      <td>Life expectancy at birth for both sexes (years)</td>\n",
       "      <td>59.6</td>\n",
       "      <td>Data refers to a 5-year period preceding the r...</td>\n",
       "      <td>United Nations Population Division, New York, ...</td>\n",
       "    </tr>\n",
       "    <tr>\n",
       "      <th>629</th>\n",
       "      <td>4</td>\n",
       "      <td>Afghanistan</td>\n",
       "      <td>2010</td>\n",
       "      <td>Life expectancy at birth for males (years)</td>\n",
       "      <td>58.3</td>\n",
       "      <td>Data refers to a 5-year period preceding the r...</td>\n",
       "      <td>United Nations Population Division, New York, ...</td>\n",
       "    </tr>\n",
       "    <tr>\n",
       "      <th>630</th>\n",
       "      <td>4</td>\n",
       "      <td>Afghanistan</td>\n",
       "      <td>2010</td>\n",
       "      <td>Life expectancy at birth for females (years)</td>\n",
       "      <td>61.0</td>\n",
       "      <td>Data refers to a 5-year period preceding the r...</td>\n",
       "      <td>United Nations Population Division, New York, ...</td>\n",
       "    </tr>\n",
       "    <tr>\n",
       "      <th>631</th>\n",
       "      <td>4</td>\n",
       "      <td>Afghanistan</td>\n",
       "      <td>2015</td>\n",
       "      <td>Population annual rate of increase (percent)</td>\n",
       "      <td>3.3</td>\n",
       "      <td>Data refers to a 5-year period preceding the r...</td>\n",
       "      <td>United Nations Population Division, New York, ...</td>\n",
       "    </tr>\n",
       "  </tbody>\n",
       "</table>\n",
       "</div>"
      ],
      "text/plain": [
       "     Region/Country/Area   Unnamed: 1  Year  \\\n",
       "627                    4  Afghanistan  2010   \n",
       "628                    4  Afghanistan  2010   \n",
       "629                    4  Afghanistan  2010   \n",
       "630                    4  Afghanistan  2010   \n",
       "631                    4  Afghanistan  2015   \n",
       "\n",
       "                                                Series Value  \\\n",
       "627  Maternal mortality ratio (deaths per 100,000 p...   954   \n",
       "628    Life expectancy at birth for both sexes (years)  59.6   \n",
       "629         Life expectancy at birth for males (years)  58.3   \n",
       "630       Life expectancy at birth for females (years)  61.0   \n",
       "631       Population annual rate of increase (percent)   3.3   \n",
       "\n",
       "                                             Footnotes  \\\n",
       "627                                                NaN   \n",
       "628  Data refers to a 5-year period preceding the r...   \n",
       "629  Data refers to a 5-year period preceding the r...   \n",
       "630  Data refers to a 5-year period preceding the r...   \n",
       "631  Data refers to a 5-year period preceding the r...   \n",
       "\n",
       "                                                Source  \n",
       "627  World Health Organization (WHO), the United Na...  \n",
       "628  United Nations Population Division, New York, ...  \n",
       "629  United Nations Population Division, New York, ...  \n",
       "630  United Nations Population Division, New York, ...  \n",
       "631  United Nations Population Division, New York, ...  "
      ]
     },
     "execution_count": 5,
     "metadata": {},
     "output_type": "execute_result"
    }
   ],
   "source": [
    "countries_data.head()"
   ]
  },
  {
   "cell_type": "code",
   "execution_count": 6,
   "id": "4ab4d59b-4d62-4bbf-bed1-08dd626ab01d",
   "metadata": {},
   "outputs": [
    {
     "name": "stdout",
     "output_type": "stream",
     "text": [
      "<class 'pandas.core.frame.DataFrame'>\n",
      "RangeIndex: 4272 entries, 627 to 4898\n",
      "Data columns (total 7 columns):\n",
      " #   Column               Non-Null Count  Dtype \n",
      "---  ------               --------------  ----- \n",
      " 0   Region/Country/Area  4272 non-null   int64 \n",
      " 1   Unnamed: 1           4272 non-null   object\n",
      " 2   Year                 4272 non-null   int64 \n",
      " 3   Series               4272 non-null   object\n",
      " 4   Value                4272 non-null   object\n",
      " 5   Footnotes            3717 non-null   object\n",
      " 6   Source               4272 non-null   object\n",
      "dtypes: int64(2), object(5)\n",
      "memory usage: 233.8+ KB\n"
     ]
    }
   ],
   "source": [
    "countries_data.info()"
   ]
  },
  {
   "cell_type": "code",
   "execution_count": 7,
   "id": "7dcf65e4-7e69-4cde-931a-f4249b142bb9",
   "metadata": {},
   "outputs": [],
   "source": [
    "life_expectancy_country_data = countries_data[countries_data['Series'] == 'Life expectancy at birth for both sexes (years)']\n",
    "#selected only countries data for 'Life expectancy at birth for both sexes (years)'"
   ]
  },
  {
   "cell_type": "code",
   "execution_count": 8,
   "id": "8ede1dad-859a-4dcf-a4ee-644027a9b457",
   "metadata": {},
   "outputs": [
    {
     "data": {
      "text/html": [
       "<div>\n",
       "<style scoped>\n",
       "    .dataframe tbody tr th:only-of-type {\n",
       "        vertical-align: middle;\n",
       "    }\n",
       "\n",
       "    .dataframe tbody tr th {\n",
       "        vertical-align: top;\n",
       "    }\n",
       "\n",
       "    .dataframe thead th {\n",
       "        text-align: right;\n",
       "    }\n",
       "</style>\n",
       "<table border=\"1\" class=\"dataframe\">\n",
       "  <thead>\n",
       "    <tr style=\"text-align: right;\">\n",
       "      <th></th>\n",
       "      <th>Region/Country/Area</th>\n",
       "      <th>Unnamed: 1</th>\n",
       "      <th>Year</th>\n",
       "      <th>Series</th>\n",
       "      <th>Value</th>\n",
       "      <th>Footnotes</th>\n",
       "      <th>Source</th>\n",
       "    </tr>\n",
       "  </thead>\n",
       "  <tbody>\n",
       "    <tr>\n",
       "      <th>628</th>\n",
       "      <td>4</td>\n",
       "      <td>Afghanistan</td>\n",
       "      <td>2010</td>\n",
       "      <td>Life expectancy at birth for both sexes (years)</td>\n",
       "      <td>59.6</td>\n",
       "      <td>Data refers to a 5-year period preceding the r...</td>\n",
       "      <td>United Nations Population Division, New York, ...</td>\n",
       "    </tr>\n",
       "    <tr>\n",
       "      <th>635</th>\n",
       "      <td>4</td>\n",
       "      <td>Afghanistan</td>\n",
       "      <td>2015</td>\n",
       "      <td>Life expectancy at birth for both sexes (years)</td>\n",
       "      <td>62.3</td>\n",
       "      <td>Data refers to a 5-year period preceding the r...</td>\n",
       "      <td>United Nations Population Division, New York, ...</td>\n",
       "    </tr>\n",
       "    <tr>\n",
       "      <th>642</th>\n",
       "      <td>4</td>\n",
       "      <td>Afghanistan</td>\n",
       "      <td>2020</td>\n",
       "      <td>Life expectancy at birth for both sexes (years)</td>\n",
       "      <td>64.3</td>\n",
       "      <td>Data refers to a 5-year period preceding the r...</td>\n",
       "      <td>United Nations Population Division, New York, ...</td>\n",
       "    </tr>\n",
       "    <tr>\n",
       "      <th>649</th>\n",
       "      <td>8</td>\n",
       "      <td>Albania</td>\n",
       "      <td>2010</td>\n",
       "      <td>Life expectancy at birth for both sexes (years)</td>\n",
       "      <td>75.6</td>\n",
       "      <td>Data refers to a 5-year period preceding the r...</td>\n",
       "      <td>United Nations Population Division, New York, ...</td>\n",
       "    </tr>\n",
       "    <tr>\n",
       "      <th>656</th>\n",
       "      <td>8</td>\n",
       "      <td>Albania</td>\n",
       "      <td>2015</td>\n",
       "      <td>Life expectancy at birth for both sexes (years)</td>\n",
       "      <td>77.5</td>\n",
       "      <td>Data refers to a 5-year period preceding the r...</td>\n",
       "      <td>United Nations Population Division, New York, ...</td>\n",
       "    </tr>\n",
       "  </tbody>\n",
       "</table>\n",
       "</div>"
      ],
      "text/plain": [
       "     Region/Country/Area   Unnamed: 1  Year  \\\n",
       "628                    4  Afghanistan  2010   \n",
       "635                    4  Afghanistan  2015   \n",
       "642                    4  Afghanistan  2020   \n",
       "649                    8      Albania  2010   \n",
       "656                    8      Albania  2015   \n",
       "\n",
       "                                              Series Value  \\\n",
       "628  Life expectancy at birth for both sexes (years)  59.6   \n",
       "635  Life expectancy at birth for both sexes (years)  62.3   \n",
       "642  Life expectancy at birth for both sexes (years)  64.3   \n",
       "649  Life expectancy at birth for both sexes (years)  75.6   \n",
       "656  Life expectancy at birth for both sexes (years)  77.5   \n",
       "\n",
       "                                             Footnotes  \\\n",
       "628  Data refers to a 5-year period preceding the r...   \n",
       "635  Data refers to a 5-year period preceding the r...   \n",
       "642  Data refers to a 5-year period preceding the r...   \n",
       "649  Data refers to a 5-year period preceding the r...   \n",
       "656  Data refers to a 5-year period preceding the r...   \n",
       "\n",
       "                                                Source  \n",
       "628  United Nations Population Division, New York, ...  \n",
       "635  United Nations Population Division, New York, ...  \n",
       "642  United Nations Population Division, New York, ...  \n",
       "649  United Nations Population Division, New York, ...  \n",
       "656  United Nations Population Division, New York, ...  "
      ]
     },
     "execution_count": 8,
     "metadata": {},
     "output_type": "execute_result"
    }
   ],
   "source": [
    "life_expectancy_country_data.head()"
   ]
  },
  {
   "cell_type": "code",
   "execution_count": 9,
   "id": "5638ea42-280e-4e0b-97d6-13122c78c0ce",
   "metadata": {},
   "outputs": [],
   "source": [
    "life_expectancy_country_nparray = np.array(life_expectancy_country_data)"
   ]
  },
  {
   "cell_type": "code",
   "execution_count": 10,
   "id": "9ac822f7-f19c-4dbe-bbbd-a834089c2467",
   "metadata": {},
   "outputs": [
    {
     "data": {
      "text/plain": [
       "603"
      ]
     },
     "execution_count": 10,
     "metadata": {},
     "output_type": "execute_result"
    }
   ],
   "source": [
    "len(life_expectancy_country_nparray) #size N of the new dataset"
   ]
  },
  {
   "cell_type": "code",
   "execution_count": 11,
   "id": "f5f8ab1e-6ca6-4cd7-9dc7-9727504af358",
   "metadata": {},
   "outputs": [],
   "source": [
    "import matplotlib.pyplot as plt\n",
    "%matplotlib inline"
   ]
  },
  {
   "cell_type": "code",
   "execution_count": 12,
   "id": "95691f55-12d1-43b7-99cb-bcf389016b9a",
   "metadata": {},
   "outputs": [],
   "source": [
    "life_exp_country_val = life_expectancy_country_nparray[:,4].astype('float')"
   ]
  },
  {
   "cell_type": "code",
   "execution_count": 65,
   "id": "3bcfc21d-ad83-4883-8d8d-b7ad9cd96623",
   "metadata": {},
   "outputs": [
    {
     "data": {
      "image/png": "[encoded data removed]",
      "text/plain": [
       "<Figure size 800x400 with 1 Axes>"
      ]
     },
     "metadata": {},
     "output_type": "display_data"
    }
   ],
   "source": [
    "# histogram of data with mean & median\n",
    "fig, ax = plt.subplots(figsize = (8,4))\n",
    "histogram = ax.hist(life_exp_country_val)\n",
    "\n",
    "ax.set(title  = 'Histogram for values of life expectancy data for both sexes(years) for countries only',\n",
    "       xlabel = 'Values')\n",
    "\n",
    "mean = ax.axvline(np.mean(life_exp_country_val), ls='--', c='r', label='mean')   # mean \n",
    "median = ax.axvline(np.median(life_exp_country_val), ls='--', c='y', label='median') # median\n",
    "\n",
    "ax.legend();"
   ]
  },
  {
   "cell_type": "code",
   "execution_count": 28,
   "id": "0b756173-6118-41e5-b9dd-ad6aa2e61df3",
   "metadata": {},
   "outputs": [
    {
     "name": "stdout",
     "output_type": "stream",
     "text": [
      " The range of the data is 41.49999999999999\n",
      " The interquartile range is 11.650000000000006\n",
      " The standard deviation of the data is 8.546790600519302\n"
     ]
    }
   ],
   "source": [
    "import scipy\n",
    "# range, interquartile range, std. deviation\n",
    "print(f' The range of the data is {np.ptp(life_exp_country_val)}') #range\n",
    "      \n",
    "print(f' The interquartile range is {scipy.stats.iqr(life_exp_country_val)}') #iqr\n",
    "\n",
    "print(f' The standard deviation of the data is {np.std(life_exp_country_val)}') # standard deviation"
   ]
  },
  {
   "cell_type": "code",
   "execution_count": 26,
   "id": "f2736c6d-0486-461a-9b89-bc6fd02f48bb",
   "metadata": {},
   "outputs": [
    {
     "data": {
      "image/png": "[encoded data removed]",
      "text/plain": [
       "<Figure size 640x480 with 1 Axes>"
      ]
     },
     "metadata": {},
     "output_type": "display_data"
    }
   ],
   "source": [
    "plt.boxplot(life_exp_country_val);\n",
    "plt.title('Boxplot of data displaying: range & interquartile range')\n",
    "plt.ylabel('Values');"
   ]
  },
  {
   "cell_type": "code",
   "execution_count": 64,
   "id": "f39dfd5d-8157-484e-8cdc-a1b593b3837e",
   "metadata": {},
   "outputs": [
    {
     "data": {
      "image/png": "[encoded data removed]",
      "text/plain": [
       "<Figure size 800x400 with 1 Axes>"
      ]
     },
     "metadata": {},
     "output_type": "display_data"
    }
   ],
   "source": [
    "# histogram of data with mean & median\n",
    "fig, ax = plt.subplots(figsize = (8,4))\n",
    "histogram = ax.hist(life_exp_country_val, color='black')\n",
    "\n",
    "ax.set(title  = 'Histogram for values of life expectancy data for both sexes(years) for countries only',\n",
    "       xlabel = 'Values')\n",
    "\n",
    "first_quantile = ax.axvline(np.quantile(life_exp_country_val, 0.25), ls='-', c='green', label='first quantile')  # first quantile\n",
    "third_quantile = ax.axvline(np.quantile(life_exp_country_val, 0.75), ls='-', c='blue', label='third quantile')  # third quantile\n",
    "mean_plus_std  = ax.axvline(np.mean(life_exp_country_val) + np.std(life_exp_country_val), ls='--', c='red', label='mean + standard deviation')\n",
    "mean_minus_std  = ax.axvline(np.mean(life_exp_country_val) - np.std(life_exp_country_val), ls='--', c='orange', label='mean - standard deviation')\n",
    "\n",
    "ax.legend();"
   ]
  },
  {
   "cell_type": "code",
   "execution_count": null,
   "id": "84c49aa7-60d5-4b7a-ae57-59a1e719a73d",
   "metadata": {},
   "outputs": [],
   "source": []
  }
 ],
 "metadata": {
  "kernelspec": {
   "display_name": "Python 3 (ipykernel)",
   "language": "python",
   "name": "python3"
  },
  "language_info": {
   "codemirror_mode": {
    "name": "ipython",
    "version": 3
   },
   "file_extension": ".py",
   "mimetype": "text/x-python",
   "name": "python",
   "nbconvert_exporter": "python",
   "pygments_lexer": "ipython3",
   "version": "3.10.6"
  }
 },
 "nbformat": 4,
 "nbformat_minor": 5
}
