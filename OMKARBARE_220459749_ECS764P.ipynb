{
  "cells": [
    {
      "cell_type": "markdown",
      "source": [
        "# APPLIED STATISTICS(ECS764P) : COURSEWORK-1\n",
        "\n",
        "NAME: OMKAR ANANT BARE\n",
        "\n",
        "STUDENT NUMBER : 220459749"
      ],
      "metadata": {
        "id": "Dykh-rZdIRpf"
      },
      "id": "Dykh-rZdIRpf"
    },
    {
      "cell_type": "code",
      "source": [
        "#import libraries\n",
        "import pandas as pd\n",
        "import numpy as np\n",
        "import scipy\n",
        "from scipy import stats\n",
        "from scipy.stats import norm\n",
        "import matplotlib.pyplot as plt\n",
        "%matplotlib inline"
      ],
      "metadata": {
        "id": "zvnbcha83AP0"
      },
      "id": "zvnbcha83AP0",
      "execution_count": 148,
      "outputs": []
    },
    {
      "cell_type": "markdown",
      "source": [
        "### 1. Import the UN's Population Growth, Fertility and Mortality Indicators from http://data.un.org/_Docs/SYB/CSV/SYB64_246_202110_Population%20Growth,%20Fertility%20and%20Mortality%20Indicators.csv\n"
      ],
      "metadata": {
        "id": "J6QQBO0F4t2a"
      },
      "id": "J6QQBO0F4t2a"
    },
    {
      "cell_type": "code",
      "execution_count": 149,
      "id": "67ab10e0-4d3d-4e47-ac8d-3ebaf430ba01",
      "metadata": {
        "id": "67ab10e0-4d3d-4e47-ac8d-3ebaf430ba01"
      },
      "outputs": [],
      "source": [
        "data = pd.read_csv('http://data.un.org/_Docs/SYB/CSV/SYB64_246_202110_Population%20Growth,%20Fertility%20and%20Mortality%20Indicators.csv', encoding='ISO-8859-1', header=1)\n",
        "#Imported the data"
      ]
    },
    {
      "cell_type": "code",
      "source": [
        "data.head()"
      ],
      "metadata": {
        "colab": {
          "base_uri": "https://localhost:8080/",
          "height": 424
        },
        "id": "Ano20_qh3TD9",
        "outputId": "510a5123-8990-4757-e139-ca3ec50d4e88"
      },
      "id": "Ano20_qh3TD9",
      "execution_count": 150,
      "outputs": [
        {
          "output_type": "execute_result",
          "data": {
            "text/plain": [
              "   Region/Country/Area                     Unnamed: 1  Year  \\\n",
              "0                    1  Total, all countries or areas  2010   \n",
              "1                    1  Total, all countries or areas  2010   \n",
              "2                    1  Total, all countries or areas  2010   \n",
              "3                    1  Total, all countries or areas  2010   \n",
              "4                    1  Total, all countries or areas  2010   \n",
              "\n",
              "                                              Series Value  \\\n",
              "0       Population annual rate of increase (percent)   1.2   \n",
              "1          Total fertility rate (children per women)   2.6   \n",
              "2  Infant mortality for both sexes (per 1,000 liv...  41.0   \n",
              "3  Maternal mortality ratio (deaths per 100,000 p...   248   \n",
              "4    Life expectancy at birth for both sexes (years)  68.9   \n",
              "\n",
              "                                           Footnotes  \\\n",
              "0  Data refers to a 5-year period preceding the r...   \n",
              "1  Data refers to a 5-year period preceding the r...   \n",
              "2  Data refers to a 5-year period preceding the r...   \n",
              "3                                                NaN   \n",
              "4  Data refers to a 5-year period preceding the r...   \n",
              "\n",
              "                                              Source  \n",
              "0  United Nations Population Division, New York, ...  \n",
              "1  United Nations Population Division, New York, ...  \n",
              "2  United Nations Statistics Division, New York, ...  \n",
              "3  World Health Organization (WHO), the United Na...  \n",
              "4  United Nations Population Division, New York, ...  "
            ],
            "text/html": [
              "\n",
              "  <div id=\"df-30c415eb-b14f-4c54-9eb0-82646edc9175\">\n",
              "    <div class=\"colab-df-container\">\n",
              "      <div>\n",
              "<style scoped>\n",
              "    .dataframe tbody tr th:only-of-type {\n",
              "        vertical-align: middle;\n",
              "    }\n",
              "\n",
              "    .dataframe tbody tr th {\n",
              "        vertical-align: top;\n",
              "    }\n",
              "\n",
              "    .dataframe thead th {\n",
              "        text-align: right;\n",
              "    }\n",
              "</style>\n",
              "<table border=\"1\" class=\"dataframe\">\n",
              "  <thead>\n",
              "    <tr style=\"text-align: right;\">\n",
              "      <th></th>\n",
              "      <th>Region/Country/Area</th>\n",
              "      <th>Unnamed: 1</th>\n",
              "      <th>Year</th>\n",
              "      <th>Series</th>\n",
              "      <th>Value</th>\n",
              "      <th>Footnotes</th>\n",
              "      <th>Source</th>\n",
              "    </tr>\n",
              "  </thead>\n",
              "  <tbody>\n",
              "    <tr>\n",
              "      <th>0</th>\n",
              "      <td>1</td>\n",
              "      <td>Total, all countries or areas</td>\n",
              "      <td>2010</td>\n",
              "      <td>Population annual rate of increase (percent)</td>\n",
              "      <td>1.2</td>\n",
              "      <td>Data refers to a 5-year period preceding the r...</td>\n",
              "      <td>United Nations Population Division, New York, ...</td>\n",
              "    </tr>\n",
              "    <tr>\n",
              "      <th>1</th>\n",
              "      <td>1</td>\n",
              "      <td>Total, all countries or areas</td>\n",
              "      <td>2010</td>\n",
              "      <td>Total fertility rate (children per women)</td>\n",
              "      <td>2.6</td>\n",
              "      <td>Data refers to a 5-year period preceding the r...</td>\n",
              "      <td>United Nations Population Division, New York, ...</td>\n",
              "    </tr>\n",
              "    <tr>\n",
              "      <th>2</th>\n",
              "      <td>1</td>\n",
              "      <td>Total, all countries or areas</td>\n",
              "      <td>2010</td>\n",
              "      <td>Infant mortality for both sexes (per 1,000 liv...</td>\n",
              "      <td>41.0</td>\n",
              "      <td>Data refers to a 5-year period preceding the r...</td>\n",
              "      <td>United Nations Statistics Division, New York, ...</td>\n",
              "    </tr>\n",
              "    <tr>\n",
              "      <th>3</th>\n",
              "      <td>1</td>\n",
              "      <td>Total, all countries or areas</td>\n",
              "      <td>2010</td>\n",
              "      <td>Maternal mortality ratio (deaths per 100,000 p...</td>\n",
              "      <td>248</td>\n",
              "      <td>NaN</td>\n",
              "      <td>World Health Organization (WHO), the United Na...</td>\n",
              "    </tr>\n",
              "    <tr>\n",
              "      <th>4</th>\n",
              "      <td>1</td>\n",
              "      <td>Total, all countries or areas</td>\n",
              "      <td>2010</td>\n",
              "      <td>Life expectancy at birth for both sexes (years)</td>\n",
              "      <td>68.9</td>\n",
              "      <td>Data refers to a 5-year period preceding the r...</td>\n",
              "      <td>United Nations Population Division, New York, ...</td>\n",
              "    </tr>\n",
              "  </tbody>\n",
              "</table>\n",
              "</div>\n",
              "      <button class=\"colab-df-convert\" onclick=\"convertToInteractive('df-30c415eb-b14f-4c54-9eb0-82646edc9175')\"\n",
              "              title=\"Convert this dataframe to an interactive table.\"\n",
              "              style=\"display:none;\">\n",
              "        \n",
              "  <svg xmlns=\"http://www.w3.org/2000/svg\" height=\"24px\"viewBox=\"0 0 24 24\"\n",
              "       width=\"24px\">\n",
              "    <path d=\"M0 0h24v24H0V0z\" fill=\"none\"/>\n",
              "    <path d=\"M18.56 5.44l.94 2.06.94-2.06 2.06-.94-2.06-.94-.94-2.06-.94 2.06-2.06.94zm-11 1L8.5 8.5l.94-2.06 2.06-.94-2.06-.94L8.5 2.5l-.94 2.06-2.06.94zm10 10l.94 2.06.94-2.06 2.06-.94-2.06-.94-.94-2.06-.94 2.06-2.06.94z\"/><path d=\"M17.41 7.96l-1.37-1.37c-.4-.4-.92-.59-1.43-.59-.52 0-1.04.2-1.43.59L10.3 9.45l-7.72 7.72c-.78.78-.78 2.05 0 2.83L4 21.41c.39.39.9.59 1.41.59.51 0 1.02-.2 1.41-.59l7.78-7.78 2.81-2.81c.8-.78.8-2.07 0-2.86zM5.41 20L4 18.59l7.72-7.72 1.47 1.35L5.41 20z\"/>\n",
              "  </svg>\n",
              "      </button>\n",
              "      \n",
              "  <style>\n",
              "    .colab-df-container {\n",
              "      display:flex;\n",
              "      flex-wrap:wrap;\n",
              "      gap: 12px;\n",
              "    }\n",
              "\n",
              "    .colab-df-convert {\n",
              "      background-color: #E8F0FE;\n",
              "      border: none;\n",
              "      border-radius: 50%;\n",
              "      cursor: pointer;\n",
              "      display: none;\n",
              "      fill: #1967D2;\n",
              "      height: 32px;\n",
              "      padding: 0 0 0 0;\n",
              "      width: 32px;\n",
              "    }\n",
              "\n",
              "    .colab-df-convert:hover {\n",
              "      background-color: #E2EBFA;\n",
              "      box-shadow: 0px 1px 2px rgba(60, 64, 67, 0.3), 0px 1px 3px 1px rgba(60, 64, 67, 0.15);\n",
              "      fill: #174EA6;\n",
              "    }\n",
              "\n",
              "    [theme=dark] .colab-df-convert {\n",
              "      background-color: #3B4455;\n",
              "      fill: #D2E3FC;\n",
              "    }\n",
              "\n",
              "    [theme=dark] .colab-df-convert:hover {\n",
              "      background-color: #434B5C;\n",
              "      box-shadow: 0px 1px 3px 1px rgba(0, 0, 0, 0.15);\n",
              "      filter: drop-shadow(0px 1px 2px rgba(0, 0, 0, 0.3));\n",
              "      fill: #FFFFFF;\n",
              "    }\n",
              "  </style>\n",
              "\n",
              "      <script>\n",
              "        const buttonEl =\n",
              "          document.querySelector('#df-30c415eb-b14f-4c54-9eb0-82646edc9175 button.colab-df-convert');\n",
              "        buttonEl.style.display =\n",
              "          google.colab.kernel.accessAllowed ? 'block' : 'none';\n",
              "\n",
              "        async function convertToInteractive(key) {\n",
              "          const element = document.querySelector('#df-30c415eb-b14f-4c54-9eb0-82646edc9175');\n",
              "          const dataTable =\n",
              "            await google.colab.kernel.invokeFunction('convertToInteractive',\n",
              "                                                     [key], {});\n",
              "          if (!dataTable) return;\n",
              "\n",
              "          const docLinkHtml = 'Like what you see? Visit the ' +\n",
              "            '<a target=\"_blank\" href=https://colab.research.google.com/notebooks/data_table.ipynb>data table notebook</a>'\n",
              "            + ' to learn more about interactive tables.';\n",
              "          element.innerHTML = '';\n",
              "          dataTable['output_type'] = 'display_data';\n",
              "          await google.colab.output.renderOutput(dataTable, element);\n",
              "          const docLink = document.createElement('div');\n",
              "          docLink.innerHTML = docLinkHtml;\n",
              "          element.appendChild(docLink);\n",
              "        }\n",
              "      </script>\n",
              "    </div>\n",
              "  </div>\n",
              "  "
            ]
          },
          "metadata": {},
          "execution_count": 150
        }
      ]
    },
    {
      "cell_type": "markdown",
      "source": [
        "### 2. Select the life expectancy data for both sexes (years) series for countries only (i.e. remove region/continent-wise data). Format this data as a numpy array for processing. Print the size N of your dataset."
      ],
      "metadata": {
        "id": "zXJQqnGF4I_y"
      },
      "id": "zXJQqnGF4I_y"
    },
    {
      "cell_type": "code",
      "execution_count": 151,
      "id": "496ec9a5-6f25-4217-a463-ff4f9e961919",
      "metadata": {
        "id": "496ec9a5-6f25-4217-a463-ff4f9e961919"
      },
      "outputs": [],
      "source": [
        "countries_data = data.iloc[627:] #selected the countries data"
      ]
    },
    {
      "cell_type": "code",
      "execution_count": 152,
      "id": "7dcf65e4-7e69-4cde-931a-f4249b142bb9",
      "metadata": {
        "id": "7dcf65e4-7e69-4cde-931a-f4249b142bb9"
      },
      "outputs": [],
      "source": [
        "life_expectancy_country_data = countries_data[countries_data['Series'] == 'Life expectancy at birth for both sexes (years)']\n",
        "#selected only countries data for 'Life expectancy at birth for both sexes (years)'"
      ]
    },
    {
      "cell_type": "code",
      "execution_count": 153,
      "id": "8ede1dad-859a-4dcf-a4ee-644027a9b457",
      "metadata": {
        "colab": {
          "base_uri": "https://localhost:8080/",
          "height": 441
        },
        "id": "8ede1dad-859a-4dcf-a4ee-644027a9b457",
        "outputId": "c4e07307-fcf6-4102-d41e-a11950f60390"
      },
      "outputs": [
        {
          "output_type": "execute_result",
          "data": {
            "text/plain": [
              "     Region/Country/Area   Unnamed: 1  Year  \\\n",
              "628                    4  Afghanistan  2010   \n",
              "635                    4  Afghanistan  2015   \n",
              "642                    4  Afghanistan  2020   \n",
              "649                    8      Albania  2010   \n",
              "656                    8      Albania  2015   \n",
              "\n",
              "                                              Series Value  \\\n",
              "628  Life expectancy at birth for both sexes (years)  59.6   \n",
              "635  Life expectancy at birth for both sexes (years)  62.3   \n",
              "642  Life expectancy at birth for both sexes (years)  64.3   \n",
              "649  Life expectancy at birth for both sexes (years)  75.6   \n",
              "656  Life expectancy at birth for both sexes (years)  77.5   \n",
              "\n",
              "                                             Footnotes  \\\n",
              "628  Data refers to a 5-year period preceding the r...   \n",
              "635  Data refers to a 5-year period preceding the r...   \n",
              "642  Data refers to a 5-year period preceding the r...   \n",
              "649  Data refers to a 5-year period preceding the r...   \n",
              "656  Data refers to a 5-year period preceding the r...   \n",
              "\n",
              "                                                Source  \n",
              "628  United Nations Population Division, New York, ...  \n",
              "635  United Nations Population Division, New York, ...  \n",
              "642  United Nations Population Division, New York, ...  \n",
              "649  United Nations Population Division, New York, ...  \n",
              "656  United Nations Population Division, New York, ...  "
            ],
            "text/html": [
              "\n",
              "  <div id=\"df-1b8e35cf-ef6b-4aa6-8961-8ee7a43eca4c\">\n",
              "    <div class=\"colab-df-container\">\n",
              "      <div>\n",
              "<style scoped>\n",
              "    .dataframe tbody tr th:only-of-type {\n",
              "        vertical-align: middle;\n",
              "    }\n",
              "\n",
              "    .dataframe tbody tr th {\n",
              "        vertical-align: top;\n",
              "    }\n",
              "\n",
              "    .dataframe thead th {\n",
              "        text-align: right;\n",
              "    }\n",
              "</style>\n",
              "<table border=\"1\" class=\"dataframe\">\n",
              "  <thead>\n",
              "    <tr style=\"text-align: right;\">\n",
              "      <th></th>\n",
              "      <th>Region/Country/Area</th>\n",
              "      <th>Unnamed: 1</th>\n",
              "      <th>Year</th>\n",
              "      <th>Series</th>\n",
              "      <th>Value</th>\n",
              "      <th>Footnotes</th>\n",
              "      <th>Source</th>\n",
              "    </tr>\n",
              "  </thead>\n",
              "  <tbody>\n",
              "    <tr>\n",
              "      <th>628</th>\n",
              "      <td>4</td>\n",
              "      <td>Afghanistan</td>\n",
              "      <td>2010</td>\n",
              "      <td>Life expectancy at birth for both sexes (years)</td>\n",
              "      <td>59.6</td>\n",
              "      <td>Data refers to a 5-year period preceding the r...</td>\n",
              "      <td>United Nations Population Division, New York, ...</td>\n",
              "    </tr>\n",
              "    <tr>\n",
              "      <th>635</th>\n",
              "      <td>4</td>\n",
              "      <td>Afghanistan</td>\n",
              "      <td>2015</td>\n",
              "      <td>Life expectancy at birth for both sexes (years)</td>\n",
              "      <td>62.3</td>\n",
              "      <td>Data refers to a 5-year period preceding the r...</td>\n",
              "      <td>United Nations Population Division, New York, ...</td>\n",
              "    </tr>\n",
              "    <tr>\n",
              "      <th>642</th>\n",
              "      <td>4</td>\n",
              "      <td>Afghanistan</td>\n",
              "      <td>2020</td>\n",
              "      <td>Life expectancy at birth for both sexes (years)</td>\n",
              "      <td>64.3</td>\n",
              "      <td>Data refers to a 5-year period preceding the r...</td>\n",
              "      <td>United Nations Population Division, New York, ...</td>\n",
              "    </tr>\n",
              "    <tr>\n",
              "      <th>649</th>\n",
              "      <td>8</td>\n",
              "      <td>Albania</td>\n",
              "      <td>2010</td>\n",
              "      <td>Life expectancy at birth for both sexes (years)</td>\n",
              "      <td>75.6</td>\n",
              "      <td>Data refers to a 5-year period preceding the r...</td>\n",
              "      <td>United Nations Population Division, New York, ...</td>\n",
              "    </tr>\n",
              "    <tr>\n",
              "      <th>656</th>\n",
              "      <td>8</td>\n",
              "      <td>Albania</td>\n",
              "      <td>2015</td>\n",
              "      <td>Life expectancy at birth for both sexes (years)</td>\n",
              "      <td>77.5</td>\n",
              "      <td>Data refers to a 5-year period preceding the r...</td>\n",
              "      <td>United Nations Population Division, New York, ...</td>\n",
              "    </tr>\n",
              "  </tbody>\n",
              "</table>\n",
              "</div>\n",
              "      <button class=\"colab-df-convert\" onclick=\"convertToInteractive('df-1b8e35cf-ef6b-4aa6-8961-8ee7a43eca4c')\"\n",
              "              title=\"Convert this dataframe to an interactive table.\"\n",
              "              style=\"display:none;\">\n",
              "        \n",
              "  <svg xmlns=\"http://www.w3.org/2000/svg\" height=\"24px\"viewBox=\"0 0 24 24\"\n",
              "       width=\"24px\">\n",
              "    <path d=\"M0 0h24v24H0V0z\" fill=\"none\"/>\n",
              "    <path d=\"M18.56 5.44l.94 2.06.94-2.06 2.06-.94-2.06-.94-.94-2.06-.94 2.06-2.06.94zm-11 1L8.5 8.5l.94-2.06 2.06-.94-2.06-.94L8.5 2.5l-.94 2.06-2.06.94zm10 10l.94 2.06.94-2.06 2.06-.94-2.06-.94-.94-2.06-.94 2.06-2.06.94z\"/><path d=\"M17.41 7.96l-1.37-1.37c-.4-.4-.92-.59-1.43-.59-.52 0-1.04.2-1.43.59L10.3 9.45l-7.72 7.72c-.78.78-.78 2.05 0 2.83L4 21.41c.39.39.9.59 1.41.59.51 0 1.02-.2 1.41-.59l7.78-7.78 2.81-2.81c.8-.78.8-2.07 0-2.86zM5.41 20L4 18.59l7.72-7.72 1.47 1.35L5.41 20z\"/>\n",
              "  </svg>\n",
              "      </button>\n",
              "      \n",
              "  <style>\n",
              "    .colab-df-container {\n",
              "      display:flex;\n",
              "      flex-wrap:wrap;\n",
              "      gap: 12px;\n",
              "    }\n",
              "\n",
              "    .colab-df-convert {\n",
              "      background-color: #E8F0FE;\n",
              "      border: none;\n",
              "      border-radius: 50%;\n",
              "      cursor: pointer;\n",
              "      display: none;\n",
              "      fill: #1967D2;\n",
              "      height: 32px;\n",
              "      padding: 0 0 0 0;\n",
              "      width: 32px;\n",
              "    }\n",
              "\n",
              "    .colab-df-convert:hover {\n",
              "      background-color: #E2EBFA;\n",
              "      box-shadow: 0px 1px 2px rgba(60, 64, 67, 0.3), 0px 1px 3px 1px rgba(60, 64, 67, 0.15);\n",
              "      fill: #174EA6;\n",
              "    }\n",
              "\n",
              "    [theme=dark] .colab-df-convert {\n",
              "      background-color: #3B4455;\n",
              "      fill: #D2E3FC;\n",
              "    }\n",
              "\n",
              "    [theme=dark] .colab-df-convert:hover {\n",
              "      background-color: #434B5C;\n",
              "      box-shadow: 0px 1px 3px 1px rgba(0, 0, 0, 0.15);\n",
              "      filter: drop-shadow(0px 1px 2px rgba(0, 0, 0, 0.3));\n",
              "      fill: #FFFFFF;\n",
              "    }\n",
              "  </style>\n",
              "\n",
              "      <script>\n",
              "        const buttonEl =\n",
              "          document.querySelector('#df-1b8e35cf-ef6b-4aa6-8961-8ee7a43eca4c button.colab-df-convert');\n",
              "        buttonEl.style.display =\n",
              "          google.colab.kernel.accessAllowed ? 'block' : 'none';\n",
              "\n",
              "        async function convertToInteractive(key) {\n",
              "          const element = document.querySelector('#df-1b8e35cf-ef6b-4aa6-8961-8ee7a43eca4c');\n",
              "          const dataTable =\n",
              "            await google.colab.kernel.invokeFunction('convertToInteractive',\n",
              "                                                     [key], {});\n",
              "          if (!dataTable) return;\n",
              "\n",
              "          const docLinkHtml = 'Like what you see? Visit the ' +\n",
              "            '<a target=\"_blank\" href=https://colab.research.google.com/notebooks/data_table.ipynb>data table notebook</a>'\n",
              "            + ' to learn more about interactive tables.';\n",
              "          element.innerHTML = '';\n",
              "          dataTable['output_type'] = 'display_data';\n",
              "          await google.colab.output.renderOutput(dataTable, element);\n",
              "          const docLink = document.createElement('div');\n",
              "          docLink.innerHTML = docLinkHtml;\n",
              "          element.appendChild(docLink);\n",
              "        }\n",
              "      </script>\n",
              "    </div>\n",
              "  </div>\n",
              "  "
            ]
          },
          "metadata": {},
          "execution_count": 153
        }
      ],
      "source": [
        "life_expectancy_country_data.head()"
      ]
    },
    {
      "cell_type": "code",
      "source": [
        "life_expectancy_country_data.info()"
      ],
      "metadata": {
        "colab": {
          "base_uri": "https://localhost:8080/"
        },
        "id": "uzRK8u0Rz1DE",
        "outputId": "bbdff937-d735-4cad-fc45-e5a3f6ec31c2"
      },
      "id": "uzRK8u0Rz1DE",
      "execution_count": 154,
      "outputs": [
        {
          "output_type": "stream",
          "name": "stdout",
          "text": [
            "<class 'pandas.core.frame.DataFrame'>\n",
            "Int64Index: 603 entries, 628 to 4896\n",
            "Data columns (total 7 columns):\n",
            " #   Column               Non-Null Count  Dtype \n",
            "---  ------               --------------  ----- \n",
            " 0   Region/Country/Area  603 non-null    int64 \n",
            " 1   Unnamed: 1           603 non-null    object\n",
            " 2   Year                 603 non-null    int64 \n",
            " 3   Series               603 non-null    object\n",
            " 4   Value                603 non-null    object\n",
            " 5   Footnotes            603 non-null    object\n",
            " 6   Source               603 non-null    object\n",
            "dtypes: int64(2), object(5)\n",
            "memory usage: 37.7+ KB\n"
          ]
        }
      ]
    },
    {
      "cell_type": "code",
      "execution_count": 155,
      "id": "5638ea42-280e-4e0b-97d6-13122c78c0ce",
      "metadata": {
        "id": "5638ea42-280e-4e0b-97d6-13122c78c0ce"
      },
      "outputs": [],
      "source": [
        "life_expectancy_country_nparray = np.array(life_expectancy_country_data) #formated data to numpy array"
      ]
    },
    {
      "cell_type": "code",
      "execution_count": 156,
      "id": "9ac822f7-f19c-4dbe-bbbd-a834089c2467",
      "metadata": {
        "colab": {
          "base_uri": "https://localhost:8080/"
        },
        "id": "9ac822f7-f19c-4dbe-bbbd-a834089c2467",
        "outputId": "c578520a-d6b4-4e17-e803-6e6687c8174c"
      },
      "outputs": [
        {
          "output_type": "stream",
          "name": "stdout",
          "text": [
            "603\n"
          ]
        }
      ],
      "source": [
        "N = len(life_expectancy_country_nparray) \n",
        "print(N)#size N of the desired dataset"
      ]
    },
    {
      "cell_type": "markdown",
      "source": [
        "### 3.Plot a histogram of the data, add vertical lines for the mean and median of the data. Comment briefly on what the values of the mean and the median tell us about the distribution of the data.\n"
      ],
      "metadata": {
        "id": "SpJgkqPq4Bce"
      },
      "id": "SpJgkqPq4Bce"
    },
    {
      "cell_type": "code",
      "execution_count": 157,
      "id": "95691f55-12d1-43b7-99cb-bcf389016b9a",
      "metadata": {
        "id": "95691f55-12d1-43b7-99cb-bcf389016b9a"
      },
      "outputs": [],
      "source": [
        "life_exp_country_val = life_expectancy_country_nparray[:,4].astype('float') \n",
        "#selected the values column of the new data"
      ]
    },
    {
      "cell_type": "code",
      "source": [
        "life_exp_country_val[:10]"
      ],
      "metadata": {
        "colab": {
          "base_uri": "https://localhost:8080/"
        },
        "id": "ukd2k8A4Cwmu",
        "outputId": "b454ca71-7344-4af3-f541-a48fca8d78cd"
      },
      "id": "ukd2k8A4Cwmu",
      "execution_count": 158,
      "outputs": [
        {
          "output_type": "execute_result",
          "data": {
            "text/plain": [
              "array([59.6, 62.3, 64.3, 75.6, 77.5, 78.4, 74.2, 75.5, 76.6, 52.7])"
            ]
          },
          "metadata": {},
          "execution_count": 158
        }
      ]
    },
    {
      "cell_type": "code",
      "execution_count": 159,
      "id": "3bcfc21d-ad83-4883-8d8d-b7ad9cd96623",
      "metadata": {
        "colab": {
          "base_uri": "https://localhost:8080/",
          "height": 295
        },
        "id": "3bcfc21d-ad83-4883-8d8d-b7ad9cd96623",
        "outputId": "fc5e0e75-83a9-4a0f-df1d-9bf6385963ba"
      },
      "outputs": [
        {
          "output_type": "display_data",
          "data": {
            "text/plain": [
              "<Figure size 576x288 with 1 Axes>"
            ],
            "image/png": "[encoded data removed]"
          },
          "metadata": {
            "needs_background": "light"
          }
        }
      ],
      "source": [
        "# histogram of data with mean & median\n",
        "fig, ax = plt.subplots(figsize = (8,4))\n",
        "histogram = ax.hist(life_exp_country_val, color='black')\n",
        "\n",
        "ax.set(title  = 'Histogram for values of life expectancy data for both sexes(years) for countries only',\n",
        "       xlabel = 'Life Expectancy Value')\n",
        "\n",
        "mean = ax.axvline(np.mean(life_exp_country_val), ls='--', c='red', label='mean')   # mean \n",
        "median = ax.axvline(np.median(life_exp_country_val), ls='--', c='violet', label='median') # median\n",
        "\n",
        "ax.legend();"
      ]
    },
    {
      "cell_type": "markdown",
      "source": [
        "#### Answer Q3: The mean and median of the distribution indicates that the average life expectancy for both sexes is around 71 years and the middle value of the distribution is around 73 years."
      ],
      "metadata": {
        "id": "0fBriivLDBIL"
      },
      "id": "0fBriivLDBIL"
    },
    {
      "cell_type": "markdown",
      "source": [
        "### 4. Compute and display the range, the interquartile range, and the standard deviation σ. Plot a histogram of the data with vertical lines the first quartile, the third quartile, and the mean +/− the standard deviation (i.e. 4 vertical lines in total)"
      ],
      "metadata": {
        "id": "5j8S34jX3nrg"
      },
      "id": "5j8S34jX3nrg"
    },
    {
      "cell_type": "code",
      "execution_count": 160,
      "id": "0b756173-6118-41e5-b9dd-ad6aa2e61df3",
      "metadata": {
        "colab": {
          "base_uri": "https://localhost:8080/"
        },
        "id": "0b756173-6118-41e5-b9dd-ad6aa2e61df3",
        "outputId": "3ab13acc-d0b8-49c5-d409-703e3d538ddd"
      },
      "outputs": [
        {
          "output_type": "stream",
          "name": "stdout",
          "text": [
            " The range of the data is 41.49999999999999\n",
            " The interquartile range of the data is 11.650000000000006\n",
            " The standard deviation of the data is 8.546790600519302\n"
          ]
        }
      ],
      "source": [
        "#computed range, interquartile range, std. deviation\n",
        "print(f' The range of the data is {np.ptp(life_exp_country_val)}') #range\n",
        "      \n",
        "print(f' The interquartile range of the data is {scipy.stats.iqr(life_exp_country_val)}') #iqr\n",
        "\n",
        "print(f' The standard deviation of the data is {np.std(life_exp_country_val)}') # standard deviation"
      ]
    },
    {
      "cell_type": "code",
      "execution_count": 161,
      "id": "f2736c6d-0486-461a-9b89-bc6fd02f48bb",
      "metadata": {
        "colab": {
          "base_uri": "https://localhost:8080/",
          "height": 281
        },
        "id": "f2736c6d-0486-461a-9b89-bc6fd02f48bb",
        "outputId": "dceb8114-2b42-4f55-dfda-bf3e761821bf"
      },
      "outputs": [
        {
          "output_type": "display_data",
          "data": {
            "text/plain": [
              "<Figure size 432x288 with 1 Axes>"
            ],
            "image/png": "[encoded data removed]"
          },
          "metadata": {
            "needs_background": "light"
          }
        }
      ],
      "source": [
        "plt.boxplot(life_exp_country_val);\n",
        "plt.title('Boxplot of data displaying: range & interquartile range')\n",
        "plt.ylabel('Value');"
      ]
    },
    {
      "cell_type": "code",
      "execution_count": 162,
      "id": "f39dfd5d-8157-484e-8cdc-a1b593b3837e",
      "metadata": {
        "colab": {
          "base_uri": "https://localhost:8080/",
          "height": 295
        },
        "id": "f39dfd5d-8157-484e-8cdc-a1b593b3837e",
        "outputId": "3228d868-1f72-4570-b10c-6c0657e9c9be"
      },
      "outputs": [
        {
          "output_type": "display_data",
          "data": {
            "text/plain": [
              "<Figure size 576x288 with 1 Axes>"
            ],
            "image/png": "[encoded data removed]"
          },
          "metadata": {
            "needs_background": "light"
          }
        }
      ],
      "source": [
        "# histogram of data with first quartile, third quartile and the mean +/− the standard deviation (i.e. 4 vertical lines in total)\n",
        "fig, ax = plt.subplots(figsize = (8,4))\n",
        "histogram = ax.hist(life_exp_country_val, color='black')\n",
        "\n",
        "ax.set(title  = 'Histogram for values of life expectancy data for both sexes(years) for countries only',\n",
        "       xlabel = 'Life Expectancy Value')\n",
        "\n",
        "first_quartile = ax.axvline(np.quantile(life_exp_country_val, 0.25), ls='-', c='green', label='first quartile')  # first quantile\n",
        "third_quartile = ax.axvline(np.quantile(life_exp_country_val, 0.75), ls='-', c='blue', label='third quartile')  # third quantile\n",
        "mean_plus_std  = ax.axvline(np.mean(life_exp_country_val) + np.std(life_exp_country_val), ls='--', c='red', label='mean + standard deviation')\n",
        "mean_minus_std  = ax.axvline(np.mean(life_exp_country_val) - np.std(life_exp_country_val), ls='--', c='orange', label='mean - standard deviation')\n",
        "\n",
        "ax.legend();"
      ]
    },
    {
      "cell_type": "markdown",
      "source": [
        "### 5. We covered several classes of distributions in the lecture (e.g. distributions on finite sets). Based on your observations so far, which class and which distribution within this class do you think would be suitable to model life expectancy? Briefly justify your choice. Generate N samples from this distribution. Adjust your parameters so that these samples are not too dissimilar to those from the life expectancy data. Plot a histogram for this data together with vertical lines for the mean, first, second and third quartile."
      ],
      "metadata": {
        "id": "OVzPRPwrrUt-"
      },
      "id": "OVzPRPwrrUt-"
    },
    {
      "cell_type": "markdown",
      "source": [
        "#### Answer 5: The normal distribution can be considered the most appropriate distribution to model life expectancy data. It is a continuous distribution with infinite support and the reason to choose it for the following scenario is that the mean, median and mode of the data are almost similar and the mean of the data divides the distribution into approximately two symmetrical parts."
      ],
      "metadata": {
        "id": "07eEea-esDct"
      },
      "id": "07eEea-esDct"
    },
    {
      "cell_type": "code",
      "source": [
        "# Generated N samples from the normal distribution\n",
        "np.random.seed(20)\n",
        "samplex = norm.rvs(loc=71, scale=9, size=N)\n",
        "\n",
        "# histogram of generated N samples with mean, first, second and third quartile\n",
        "fig, ax = plt.subplots(figsize = (9,4))\n",
        "histogram = ax.hist(samplex, color='black')\n",
        "\n",
        "ax.set(title  = 'Histogram of generated N samples',\n",
        "       xlabel = 'Values')\n",
        "\n",
        "mean = ax.axvline(np.mean(samplex), ls='-', c='r', label='mean') # mean \n",
        "first_quartilex = ax.axvline(np.quantile(samplex, 0.25), ls='--', c='green', label='first quartile') # first quartile\n",
        "second_quartile = ax.axvline(np.quantile(samplex, 0.5), ls='--', c='yellow', label ='second quartile') #second quartile\n",
        "third_quartilex = ax.axvline(np.quantile(samplex, 0.75), ls='--', c='violet', label='third quartile') # third quartile\n",
        "\n",
        "ax.legend();"
      ],
      "metadata": {
        "colab": {
          "base_uri": "https://localhost:8080/",
          "height": 295
        },
        "outputId": "209996de-9e56-4ec0-eafa-78d763c97f4d",
        "id": "3yzzG0aeoSsv"
      },
      "execution_count": 166,
      "outputs": [
        {
          "output_type": "display_data",
          "data": {
            "text/plain": [
              "<Figure size 648x288 with 1 Axes>"
            ],
            "image/png": "[encoded data removed]"
          },
          "metadata": {
            "needs_background": "light"
          }
        }
      ],
      "id": "3yzzG0aeoSsv"
    },
    {
      "cell_type": "code",
      "source": [],
      "metadata": {
        "id": "4Fit4xoLrXfC"
      },
      "id": "4Fit4xoLrXfC",
      "execution_count": 163,
      "outputs": []
    }
  ],
  "metadata": {
    "kernelspec": {
      "display_name": "Python 3 (ipykernel)",
      "language": "python",
      "name": "python3"
    },
    "language_info": {
      "codemirror_mode": {
        "name": "ipython",
        "version": 3
      },
      "file_extension": ".py",
      "mimetype": "text/x-python",
      "name": "python",
      "nbconvert_exporter": "python",
      "pygments_lexer": "ipython3",
      "version": "3.10.6"
    },
    "colab": {
      "provenance": []
    }
  },
  "nbformat": 4,
  "nbformat_minor": 5
}