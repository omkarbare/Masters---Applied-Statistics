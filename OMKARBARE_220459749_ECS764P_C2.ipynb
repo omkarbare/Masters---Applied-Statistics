{
 "cells": [
  {
   "cell_type": "markdown",
   "id": "16b76a1b",
   "metadata": {},
   "source": [
    "# APPLIED STATISTICS(ECS764P) : COURSEWORK-2\n",
    "\n",
    "NAME: OMKAR ANANT BARE\n",
    "\n",
    "STUDENT NUMBER : 220459749"
   ]
  },
  {
   "cell_type": "code",
   "execution_count": 1,
   "id": "d856b153",
   "metadata": {},
   "outputs": [],
   "source": [
    "import numpy as np\n",
    "import matplotlib.pyplot as plt\n",
    "import scipy\n",
    "from scipy import stats\n",
    "from scipy.integrate import quad\n",
    "from scipy.stats import beta"
   ]
  },
  {
   "cell_type": "markdown",
   "id": "ee39106d",
   "metadata": {},
   "source": [
    "# Question 1 Solution:"
   ]
  },
  {
   "cell_type": "code",
   "execution_count": 2,
   "id": "8bf091b9",
   "metadata": {},
   "outputs": [],
   "source": [
    "from scipy.stats import beta\n",
    "def beta_measure(a, b):\n",
    "    '''\n",
    "    Returns probability mass of the interval [a,b] under the probability measure Beta(3,7).\n",
    "    '''\n",
    "    cdf_a = beta.cdf(a, 3, 7)\n",
    "    cdf_b = beta.cdf(b, 3, 7)\n",
    "    probability_mass = cdf_b - cdf_a\n",
    "    \n",
    "    return probability_mass"
   ]
  },
  {
   "cell_type": "code",
   "execution_count": 3,
   "id": "c6be769b",
   "metadata": {},
   "outputs": [
    {
     "name": "stdout",
     "output_type": "stream",
     "text": [
      "1.0\n"
     ]
    }
   ],
   "source": [
    "# Q1(a)\n",
    "print(beta_measure(0,1))"
   ]
  },
  {
   "cell_type": "code",
   "execution_count": 4,
   "id": "a62dcf4d",
   "metadata": {},
   "outputs": [
    {
     "name": "stdout",
     "output_type": "stream",
     "text": [
      "0.0\n"
     ]
    }
   ],
   "source": [
    "# Q1(b)\n",
    "print(beta_measure(0,0))"
   ]
  },
  {
   "cell_type": "code",
   "execution_count": 5,
   "id": "c99c598d",
   "metadata": {},
   "outputs": [
    {
     "name": "stdout",
     "output_type": "stream",
     "text": [
      "0.599334716796875\n"
     ]
    }
   ],
   "source": [
    "# Q1(c)\n",
    "print(beta_measure(0.25,0.75))"
   ]
  },
  {
   "cell_type": "code",
   "execution_count": 6,
   "id": "20d889b7",
   "metadata": {},
   "outputs": [
    {
     "name": "stdout",
     "output_type": "stream",
     "text": [
      "0.91015625\n"
     ]
    }
   ],
   "source": [
    "# Q1(d)\n",
    "print(beta_measure(0,0.5))"
   ]
  },
  {
   "cell_type": "code",
   "execution_count": 7,
   "id": "8d1ffce0",
   "metadata": {},
   "outputs": [
    {
     "name": "stdout",
     "output_type": "stream",
     "text": [
      "0.08984375\n"
     ]
    }
   ],
   "source": [
    "# Q1(e)\n",
    "print(beta_measure(0.5,1))"
   ]
  },
  {
   "cell_type": "code",
   "execution_count": 8,
   "id": "69af22c3",
   "metadata": {},
   "outputs": [
    {
     "data": {
      "image/png": "[encoded data removed]",
      "text/plain": [
       "<Figure size 500x300 with 1 Axes>"
      ]
     },
     "metadata": {},
     "output_type": "display_data"
    }
   ],
   "source": [
    "# pdf of Beta (3, 7)\n",
    "x = np.linspace(0, 1, 1000)\n",
    "y = beta.pdf(x ,3, 7)\n",
    "plt.figure(figsize=(5,3))\n",
    "plt.title('pdf of Beta (3,7)')\n",
    "plt.plot(x,y);"
   ]
  },
  {
   "cell_type": "markdown",
   "id": "930fa766",
   "metadata": {},
   "source": [
    "# Question 2 Solution:"
   ]
  },
  {
   "cell_type": "code",
   "execution_count": 9,
   "id": "520fac9f",
   "metadata": {},
   "outputs": [],
   "source": [
    "def beta_pdf(x):\n",
    "    '''\n",
    "    Returns probability measure Beta(3,7) evaluated at x.\n",
    "    '''\n",
    "    pdf_x = beta.pdf(x, 3, 7)\n",
    "    \n",
    "    return pdf_x"
   ]
  },
  {
   "cell_type": "code",
   "execution_count": 10,
   "id": "e7fbe010",
   "metadata": {},
   "outputs": [],
   "source": [
    "from scipy.integrate import quad #returns (integral, estimate of the absolute error)"
   ]
  },
  {
   "cell_type": "code",
   "execution_count": 11,
   "id": "e8ffce53",
   "metadata": {},
   "outputs": [
    {
     "name": "stdout",
     "output_type": "stream",
     "text": [
      "(1.0, 1.1102230246251565e-14)\n",
      "Integral: 1.0\n",
      "estimate of the absolute error: 1.1102230246251565e-14\n"
     ]
    }
   ],
   "source": [
    "# Q2(a)\n",
    "print(quad(beta_pdf, 0, 1))\n",
    "print(f'Integral: {quad(beta_pdf, 0, 1)[0]}\\nestimate of the absolute error: {quad(beta_pdf, 0, 1)[1]}')"
   ]
  },
  {
   "cell_type": "code",
   "execution_count": 12,
   "id": "fa37b5c4",
   "metadata": {},
   "outputs": [
    {
     "name": "stdout",
     "output_type": "stream",
     "text": [
      "(0.0, 0.0)\n",
      "Integral: 0.0\n",
      "estimate of the absolute error: 0.0\n"
     ]
    }
   ],
   "source": [
    "# Q2(b)\n",
    "print(quad(beta_pdf, 0, 0))\n",
    "print(f'Integral: {quad(beta_pdf, 0, 0)[0]}\\nestimate of the absolute error: {quad(beta_pdf, 0, 0)[1]}')"
   ]
  },
  {
   "cell_type": "code",
   "execution_count": 13,
   "id": "4be22aac",
   "metadata": {},
   "outputs": [
    {
     "name": "stdout",
     "output_type": "stream",
     "text": [
      "(0.5993347167968752, 6.653952020450884e-15)\n",
      "Integral: 0.5993347167968752\n",
      "estimate of the absolute error: 6.653952020450884e-15\n"
     ]
    }
   ],
   "source": [
    "# Q2(c)\n",
    "print(quad(beta_pdf, 0.25, 0.75)) # 1/4 = 0.25, 3/4 = 0.75\n",
    "print(f'Integral: {quad(beta_pdf, 0.25, 0.75)[0]}\\nestimate of the absolute error: {quad(beta_pdf, 0.25, 0.75)[1]}')"
   ]
  },
  {
   "cell_type": "code",
   "execution_count": 14,
   "id": "a4a0e835",
   "metadata": {},
   "outputs": [
    {
     "name": "stdout",
     "output_type": "stream",
     "text": [
      "(0.9101562500000001, 1.0104764247564903e-14)\n",
      "Integral: 0.9101562500000001\n",
      "estimate of the absolute error: 1.0104764247564903e-14\n"
     ]
    }
   ],
   "source": [
    "# Q2(d)\n",
    "print(quad(beta_pdf, 0, 0.5)) # 1/2 = 0.5\n",
    "print(f'Integral: {quad(beta_pdf, 0, 0.5)[0]}\\nestimate of the absolute error: {quad(beta_pdf, 0, 0.5)[1]}')"
   ]
  },
  {
   "cell_type": "code",
   "execution_count": 15,
   "id": "d83e1100",
   "metadata": {},
   "outputs": [
    {
     "name": "stdout",
     "output_type": "stream",
     "text": [
      "(0.08984374999999999, 9.974659986866639e-16)\n",
      "Integral: 0.08984374999999999\n",
      "estimate of the absolute error: 9.974659986866639e-16\n"
     ]
    }
   ],
   "source": [
    "# Q2(e)\n",
    "print(quad(beta_pdf, 0.5, 1)) # 1/2 = 0.5\n",
    "print(f'Integral: {quad(beta_pdf, 0.5, 1)[0]}\\nestimate of the absolute error: {quad(beta_pdf, 0.5, 1)[1]}')"
   ]
  },
  {
   "cell_type": "markdown",
   "id": "36cc631a",
   "metadata": {},
   "source": [
    "# Question 3 Solution:"
   ]
  },
  {
   "cell_type": "markdown",
   "id": "20325f35",
   "metadata": {},
   "source": [
    "The support of Beta(3,7) is [0,1] and support of Beta(7,3) is also [0,1] \n",
    "\n",
    "Therefore, support of Beta(3,7) + Beta(7,3) will be [0,2]"
   ]
  },
  {
   "cell_type": "code",
   "execution_count": 16,
   "id": "81f0d2dd",
   "metadata": {},
   "outputs": [],
   "source": [
    "# function to implement the integrand in the question\n",
    "def integrand(x, t):\n",
    "    f1 = beta.pdf(x, 3, 7)\n",
    "    f2 = beta.pdf(t-x, 7 ,3)\n",
    "    return f1 * f2"
   ]
  },
  {
   "cell_type": "code",
   "execution_count": 17,
   "id": "35fd0096",
   "metadata": {},
   "outputs": [],
   "source": [
    "#100 points (t1, . . . , t100) along the support of Beta (3, 7) + Beta (7, 3)\n",
    "np.random.seed(1)\n",
    "x = np.linspace(0,2,100)\n",
    "x_100 = x"
   ]
  },
  {
   "cell_type": "code",
   "execution_count": 18,
   "id": "652ab0dd",
   "metadata": {},
   "outputs": [],
   "source": [
    "# Compute the integral\n",
    "integrals = []\n",
    "for i in range(100):\n",
    "    integral = quad(integrand, -np.inf, np.inf, args=(x[i]))[0]\n",
    "    integrals.append(integral)"
   ]
  },
  {
   "cell_type": "code",
   "execution_count": 19,
   "id": "5a0ec6e3",
   "metadata": {},
   "outputs": [
    {
     "data": {
      "text/plain": [
       "[0.0,\n",
       " 7.92114746501205e-14,\n",
       " 6.96686667036812e-11,\n",
       " 2.22387539199213e-09,\n",
       " 2.845627971588317e-08,\n",
       " 1.9821120415367692e-07,\n",
       " 9.555198590223275e-07,\n",
       " 3.5723266476732585e-06,\n",
       " 1.108587100486892e-05,\n",
       " 2.9834874980339145e-05]"
      ]
     },
     "metadata": {},
     "output_type": "display_data"
    },
    {
     "data": {
      "text/plain": [
       "100"
      ]
     },
     "metadata": {},
     "output_type": "display_data"
    }
   ],
   "source": [
    "display(integrals[:10], len(integrals))"
   ]
  },
  {
   "cell_type": "code",
   "execution_count": 20,
   "id": "5f81f983",
   "metadata": {},
   "outputs": [
    {
     "data": {
      "image/png": "[encoded data removed]",
      "text/plain": [
       "<Figure size 640x480 with 1 Axes>"
      ]
     },
     "metadata": {},
     "output_type": "display_data"
    }
   ],
   "source": [
    "# Sample independently from two beta distributions\n",
    "N = 10000\n",
    "seed = 1\n",
    "b1 = stats.beta.rvs(a=3,b=7, size = N, random_state = seed)\n",
    "b2 = stats.beta.rvs(a=7, b=3, size = N, random_state = seed + 1)\n",
    "\n",
    "# Adding the two beta distributions\n",
    "b1_plus_b2 = b1 + b2\n",
    "\n",
    "# plot the histogram of sums of beta samples along with the pdf computed in the previous step\n",
    "fig, ax = plt.subplots()\n",
    "ax.hist(b1_plus_b2, int(np.sqrt(N)), density = True, label = 'sum of beta samples')\n",
    "ax.axis(xmin=0,xmax=2)\n",
    "ax.plot(x_100, integrals, c='r', label='pdf computed in previous step') # x_100 = 100 points along the support of Beta (3, 7) + Beta (7, 3)\n",
    "ax.legend(fontsize=8);"
   ]
  },
  {
   "cell_type": "markdown",
   "id": "20a2c8ed",
   "metadata": {},
   "source": [
    "### Q3 Answer: It can be observed that the pdf computed in the previous set fits the distribution generated by adding two independent Beta distributions."
   ]
  },
  {
   "cell_type": "markdown",
   "id": "f78700b2",
   "metadata": {},
   "source": [
    "# Question 4 Solution:"
   ]
  },
  {
   "cell_type": "code",
   "execution_count": 21,
   "id": "2a83a02c",
   "metadata": {},
   "outputs": [
    {
     "data": {
      "text/plain": [
       "'0.10.0'"
      ]
     },
     "execution_count": 21,
     "metadata": {},
     "output_type": "execute_result"
    }
   ],
   "source": [
    "import pandas_datareader\n",
    "pandas_datareader.__version__ "
   ]
  },
  {
   "cell_type": "code",
   "execution_count": 22,
   "id": "93252f09",
   "metadata": {},
   "outputs": [],
   "source": [
    "from pandas_datareader import data\n",
    "my_data = data.DataReader('MSFT', 'yahoo', '2012-11-02', '2022-11-02')"
   ]
  },
  {
   "cell_type": "code",
   "execution_count": 23,
   "id": "80e6f825",
   "metadata": {},
   "outputs": [
    {
     "data": {
      "text/html": [
       "<div>\n",
       "<style scoped>\n",
       "    .dataframe tbody tr th:only-of-type {\n",
       "        vertical-align: middle;\n",
       "    }\n",
       "\n",
       "    .dataframe tbody tr th {\n",
       "        vertical-align: top;\n",
       "    }\n",
       "\n",
       "    .dataframe thead th {\n",
       "        text-align: right;\n",
       "    }\n",
       "</style>\n",
       "<table border=\"1\" class=\"dataframe\">\n",
       "  <thead>\n",
       "    <tr style=\"text-align: right;\">\n",
       "      <th></th>\n",
       "      <th>High</th>\n",
       "      <th>Low</th>\n",
       "      <th>Open</th>\n",
       "      <th>Close</th>\n",
       "      <th>Volume</th>\n",
       "      <th>Adj Close</th>\n",
       "    </tr>\n",
       "    <tr>\n",
       "      <th>Date</th>\n",
       "      <th></th>\n",
       "      <th></th>\n",
       "      <th></th>\n",
       "      <th></th>\n",
       "      <th></th>\n",
       "      <th></th>\n",
       "    </tr>\n",
       "  </thead>\n",
       "  <tbody>\n",
       "    <tr>\n",
       "      <th>2012-11-02</th>\n",
       "      <td>29.770000</td>\n",
       "      <td>29.330000</td>\n",
       "      <td>29.590000</td>\n",
       "      <td>29.500000</td>\n",
       "      <td>57131600.0</td>\n",
       "      <td>24.194620</td>\n",
       "    </tr>\n",
       "    <tr>\n",
       "      <th>2012-11-05</th>\n",
       "      <td>29.740000</td>\n",
       "      <td>29.330000</td>\n",
       "      <td>29.620001</td>\n",
       "      <td>29.629999</td>\n",
       "      <td>38070800.0</td>\n",
       "      <td>24.301245</td>\n",
       "    </tr>\n",
       "    <tr>\n",
       "      <th>2012-11-06</th>\n",
       "      <td>30.200001</td>\n",
       "      <td>29.610001</td>\n",
       "      <td>29.820000</td>\n",
       "      <td>29.860001</td>\n",
       "      <td>43401500.0</td>\n",
       "      <td>24.489878</td>\n",
       "    </tr>\n",
       "    <tr>\n",
       "      <th>2012-11-07</th>\n",
       "      <td>29.830000</td>\n",
       "      <td>29.049999</td>\n",
       "      <td>29.530001</td>\n",
       "      <td>29.080000</td>\n",
       "      <td>57871800.0</td>\n",
       "      <td>23.850151</td>\n",
       "    </tr>\n",
       "    <tr>\n",
       "      <th>2012-11-08</th>\n",
       "      <td>29.370001</td>\n",
       "      <td>28.799999</td>\n",
       "      <td>29.120001</td>\n",
       "      <td>28.809999</td>\n",
       "      <td>49841800.0</td>\n",
       "      <td>23.628712</td>\n",
       "    </tr>\n",
       "  </tbody>\n",
       "</table>\n",
       "</div>"
      ],
      "text/plain": [
       "                 High        Low       Open      Close      Volume  Adj Close\n",
       "Date                                                                         \n",
       "2012-11-02  29.770000  29.330000  29.590000  29.500000  57131600.0  24.194620\n",
       "2012-11-05  29.740000  29.330000  29.620001  29.629999  38070800.0  24.301245\n",
       "2012-11-06  30.200001  29.610001  29.820000  29.860001  43401500.0  24.489878\n",
       "2012-11-07  29.830000  29.049999  29.530001  29.080000  57871800.0  23.850151\n",
       "2012-11-08  29.370001  28.799999  29.120001  28.809999  49841800.0  23.628712"
      ]
     },
     "metadata": {},
     "output_type": "display_data"
    }
   ],
   "source": [
    "display(my_data.head())"
   ]
  },
  {
   "cell_type": "code",
   "execution_count": 24,
   "id": "c9699329",
   "metadata": {},
   "outputs": [],
   "source": [
    "# Keep the \"Close\" column\n",
    "my_data_close = my_data['Close'] "
   ]
  },
  {
   "cell_type": "code",
   "execution_count": 25,
   "id": "0aa70d64",
   "metadata": {},
   "outputs": [
    {
     "data": {
      "text/plain": [
       "Date\n",
       "2012-11-02    29.500000\n",
       "2012-11-05    29.629999\n",
       "2012-11-06    29.860001\n",
       "2012-11-07    29.080000\n",
       "2012-11-08    28.809999\n",
       "Name: Close, dtype: float64"
      ]
     },
     "metadata": {},
     "output_type": "display_data"
    },
    {
     "data": {
      "text/plain": [
       "2518"
      ]
     },
     "metadata": {},
     "output_type": "display_data"
    }
   ],
   "source": [
    "display(my_data_close.head(), len(my_data_close))"
   ]
  },
  {
   "cell_type": "code",
   "execution_count": 26,
   "id": "495aa2ed",
   "metadata": {},
   "outputs": [],
   "source": [
    "# function to compute the time series of (percentage) daily returns\n",
    "def daily_return(x):  \n",
    "  daily_returns = []\n",
    "  for t in range(1, len(x)):\n",
    "    return_t = 100 * ((x[t] / x[t-1]) - 1)\n",
    "    daily_returns.append(return_t)\n",
    "  return daily_returns"
   ]
  },
  {
   "cell_type": "code",
   "execution_count": 27,
   "id": "279b1c79",
   "metadata": {},
   "outputs": [],
   "source": [
    "daily_returns = np.array(daily_return(my_data_close))"
   ]
  },
  {
   "cell_type": "code",
   "execution_count": 28,
   "id": "1b55439c",
   "metadata": {},
   "outputs": [
    {
     "name": "stdout",
     "output_type": "stream",
     "text": [
      "[ 0.44067512  0.77624521 -2.61219247 -0.92847475  0.06942193]\n"
     ]
    }
   ],
   "source": [
    "print(daily_returns[:5])"
   ]
  },
  {
   "cell_type": "code",
   "execution_count": 29,
   "id": "3b047cf4",
   "metadata": {},
   "outputs": [
    {
     "data": {
      "image/png": "[encoded data removed]",
      "text/plain": [
       "<Figure size 640x480 with 1 Axes>"
      ]
     },
     "metadata": {},
     "output_type": "display_data"
    }
   ],
   "source": [
    "plt.hist(daily_returns, int(np.sqrt(len(daily_returns))));\n",
    "plt.xlim(-10, 10);"
   ]
  },
  {
   "cell_type": "code",
   "execution_count": 30,
   "id": "4f1761a1",
   "metadata": {},
   "outputs": [
    {
     "data": {
      "text/plain": [
       "8.807800316907603"
      ]
     },
     "metadata": {},
     "output_type": "display_data"
    },
    {
     "data": {
      "text/plain": [
       "-0.04548827521805432"
      ]
     },
     "metadata": {},
     "output_type": "display_data"
    }
   ],
   "source": [
    "display(scipy.stats.kurtosis(daily_returns), scipy.stats.skew(daily_returns))"
   ]
  },
  {
   "cell_type": "code",
   "execution_count": 31,
   "id": "995119d6",
   "metadata": {},
   "outputs": [
    {
     "data": {
      "text/plain": [
       "DescribeResult(nobs=2517, minmax=(-14.739031286425519, 14.216888119914373), mean=0.0941623373649645, variance=2.8548492538071355, skewness=-0.04548827521805432, kurtosis=8.807800316907603)"
      ]
     },
     "metadata": {},
     "output_type": "display_data"
    }
   ],
   "source": [
    "display(stats.describe(daily_returns))"
   ]
  },
  {
   "cell_type": "markdown",
   "id": "e35212fb",
   "metadata": {},
   "source": [
    "### Answer Q4: Due to the data's positive excess kurtosis, the 'Laplace distribution' will accurately model the distribution of daily returns data."
   ]
  },
  {
   "cell_type": "code",
   "execution_count": 32,
   "id": "37154f4c",
   "metadata": {},
   "outputs": [
    {
     "data": {
      "text/plain": [
       "  params: FitParams(loc=0.0, scale=1.0)\n",
       " success: True\n",
       " message: 'Optimization terminated successfully.'"
      ]
     },
     "metadata": {},
     "output_type": "display_data"
    }
   ],
   "source": [
    "# Maximum Likelihood Estimators for the parameters of the distribution.\n",
    "display(scipy.stats.fit(dist=stats.laplace, data=daily_returns))"
   ]
  },
  {
   "cell_type": "code",
   "execution_count": 33,
   "id": "8bebaedf",
   "metadata": {},
   "outputs": [
    {
     "data": {
      "image/png": "[encoded data removed]",
      "text/plain": [
       "<Figure size 640x480 with 1 Axes>"
      ]
     },
     "metadata": {},
     "output_type": "display_data"
    }
   ],
   "source": [
    "x = np.sort(daily_returns)\n",
    "y = scipy.stats.laplace.pdf(np.sort(daily_returns))\n",
    "\n",
    "# plot the corresponding pdf alongside the histogram of observed daily returns.\n",
    "fig, ax = plt.subplots()\n",
    "\n",
    "ax.hist(daily_returns, density=True, bins = int(np.sqrt(len(daily_returns))), color='black', label='observed daily returns')\n",
    "ax.set(title='corresponding pdf alongside the histogram of daily returns',\n",
    "       xlabel = 'daily returns')\n",
    "ax.axis(xmin=-10,xmax=10)\n",
    "ax.plot(x, y , color='red', label='pdf of distribution\\n(laplace distribution)');\n",
    "ax.legend(); "
   ]
  },
  {
   "cell_type": "code",
   "execution_count": 34,
   "id": "257f1f60",
   "metadata": {},
   "outputs": [],
   "source": [
    "# Functions required to generate QQ-Plot\n",
    "def standardize(observation):\n",
    "  z = (observation-np.mean(observation))/np.std(observation)\n",
    "  return z\n",
    "\n",
    "def get_quantiles(data):\n",
    "    quantiles = []\n",
    "    for q in np.arange(0, 1.001, 0.001):\n",
    "        quantiles.append(np.quantile(data, q))\n",
    "    return quantiles    \n",
    "\n",
    "def pyqqplot(data1, data2):\n",
    "    plt.figure()\n",
    "    data1 = standardize(data1)\n",
    "    data2 = standardize(data2)\n",
    "    q1 = np.array(get_quantiles(data1))\n",
    "    q2 = np.array(get_quantiles(data2))\n",
    "    plt.scatter(q1, q2 )\n",
    "\n",
    "    minim = min(data1.min(), data2.min())\n",
    "    maxim = max(data1.max(), data2.max())\n",
    "    plt.plot([minim, maxim], [minim, maxim], 'r-')\n",
    "    plt.title('QQ - Plot')\n",
    "    plt.show()"
   ]
  },
  {
   "cell_type": "code",
   "execution_count": 35,
   "id": "7bdd435c",
   "metadata": {},
   "outputs": [
    {
     "data": {
      "image/png": "[encoded data removed]",
      "text/plain": [
       "<Figure size 640x480 with 1 Axes>"
      ]
     },
     "metadata": {},
     "output_type": "display_data"
    }
   ],
   "source": [
    "# QQ plot of the daily returns data versus the model (laplace model)\n",
    "pyqqplot(np.sort(daily_returns), stats.laplace.rvs(size=len(daily_returns)))"
   ]
  },
  {
   "cell_type": "markdown",
   "id": "2153b7d5",
   "metadata": {},
   "source": [
    "### Answer Q4: The majority of the data points roughly lie on the diagonal line of the QQ plot, which indicates that the selected laplace distribution fits the daily returns data well."
   ]
  },
  {
   "cell_type": "code",
   "execution_count": null,
   "id": "dc5cf8ca",
   "metadata": {},
   "outputs": [],
   "source": []
  }
 ],
 "metadata": {
  "kernelspec": {
   "display_name": "Python 3 (ipykernel)",
   "language": "python",
   "name": "python3"
  },
  "language_info": {
   "codemirror_mode": {
    "name": "ipython",
    "version": 3
   },
   "file_extension": ".py",
   "mimetype": "text/x-python",
   "name": "python",
   "nbconvert_exporter": "python",
   "pygments_lexer": "ipython3",
   "version": "3.10.6"
  }
 },
 "nbformat": 4,
 "nbformat_minor": 5
}
